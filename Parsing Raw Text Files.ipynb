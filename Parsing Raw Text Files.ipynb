{
 "cells": [
  {
   "cell_type": "markdown",
   "metadata": {},
   "source": [
    "\n",
    "#### Student Name: Rajath Akshay Vanikul\n",
    "\n",
    "Date: 14/03/2019\n",
    "\n",
    "Version: 2.0\n",
    "\n",
    "Environment: Python 3.6.4 and Anaconda 5.7.6 (64-bit)\n",
    "\n",
    "Libraries used:\n",
    "* re 3.7.3 (for regular expression, included in Anaconda Python 3.6) \n",
    "* json 3.6.1 (encoder and decoder, included in Anaconda Python 3.6)\n",
    "\n",
    "\n",
    "## 1. Introduction\n",
    "In this assignment we extract data from semi-structured text file. The document contains contains information about several units in the Monash University. Each observation contains information about the unit, e.g., unit\n",
    "code, unit title, synopsis, requirements, output, chief examiner, etc. There are a total of 400 unit observation in a 2.27 MB file named `29498724.txt`. The task is to extract the data, wrangle it to the right format and transform the data into the `XML` and `JSON` format with the following elements:\n",
    "1. Unit code: is a 7-character string (three uppercase letter followed by 4 digits).\n",
    "2. Pre-requisites: only the unit codes of the units that are pre-requisite + co-requisite for the current unit (‘NA’ if the value is Null).\n",
    "3. Prohibitions: only the unit codes of the units that are prohibited to be taken with the current unit (‘NA’ if the value is Null).\n",
    "4. Synopsis: a string containing the synopsis of the unit (‘NA’ if the value is Null)\n",
    "5. Requirements: the list of requirements of the current unit (‘NA’ if the value is Null).\n",
    "6. Outputs: the list of outputs of the current unit (‘NA’ if the value is Null).\n",
    "7. Chief-examiners: the list of the chief-examiners of the current unit (‘TBA’ if Null).\n",
    "\n",
    "The process is followed as follows:\n",
    "1. Extract each unit information and store the list with each unit observation as an element.\n",
    "2. Extract all the described categories for each unit and store the information in a dictionary.\n",
    "3. All of the unit information is stored in a list of dictionary. e.g., Units[{unit1},{unit2}....{unit400}].\n",
    "4. Complete output is stored as a key-value pair in a dictionary format to transform it to `JSON` format.\n",
    "5. The final dictionary is then converted to `XML` by appending the respective tags. \n",
    "6. Store the `JSON` result into a `29498724.json` file and the `XML` result into a `29498724.xml` file.\n",
    "\n",
    "More details for each task will be given in the following sections."
   ]
  },
  {
   "cell_type": "markdown",
   "metadata": {},
   "source": [
    "## 2.  Import libraries\n",
    "\n",
    "importing regular expression and JSON libraries"
   ]
  },
  {
   "cell_type": "code",
   "execution_count": 20,
   "metadata": {},
   "outputs": [],
   "source": [
    "import re\n",
    "import json"
   ]
  },
  {
   "cell_type": "markdown",
   "metadata": {},
   "source": [
    "## 3. Loading data\n",
    "\n",
    "We read the contents of the text file to a variable using the code below:"
   ]
  },
  {
   "cell_type": "code",
   "execution_count": 4,
   "metadata": {},
   "outputs": [],
   "source": [
    "data_txt = open(\"29498724.txt\",'rt') #opening an instance of the document.\n",
    "data = data_txt.read() #reading the document to a variable.\n",
    "data_txt.close() # closing the instance."
   ]
  },
  {
   "cell_type": "markdown",
   "metadata": {},
   "source": [
    "## 4. Examining and extracting unit information"
   ]
  },
  {
   "cell_type": "markdown",
   "metadata": {},
   "source": [
    "### 4.1 Examining valid unit codes\n",
    "\n",
    "We first examine the unit code of all the observed units in the text file. We find that there are 400 unit information available in the text file.\n",
    "The code to extract all the class unit codes are as follows:"
   ]
  },
  {
   "cell_type": "code",
   "execution_count": 5,
   "metadata": {},
   "outputs": [
    {
     "data": {
      "text/plain": [
       "400"
      ]
     },
     "execution_count": 5,
     "metadata": {},
     "output_type": "execute_result"
    }
   ],
   "source": [
    "# using the regular expression to find all the matches and return a list to ID.\n",
    "ID = re.findall(r'(?:<span class=\"unitcode\">([A-Z]+[0-9]+)</span>)',data)\n",
    "\n",
    "# determine the length of the list.\n",
    "len(ID)"
   ]
  },
  {
   "cell_type": "markdown",
   "metadata": {},
   "source": [
    "However, As per the assignment description, we check for all the unit codes which is a 7-character string (3 uppercase letter followed by 4 digits)."
   ]
  },
  {
   "cell_type": "code",
   "execution_count": 6,
   "metadata": {},
   "outputs": [
    {
     "data": {
      "text/plain": [
       "393"
      ]
     },
     "execution_count": 6,
     "metadata": {},
     "output_type": "execute_result"
    }
   ],
   "source": [
    "# using the regular expression to find all the matches and return a list to ID1.\n",
    "ID1 = re.findall(r'(?:<span class=\"unitcode\">([A-Z]{3}[0-9]{4})</span>)',data)\n",
    "\n",
    "# determine the length of the list.\n",
    "len(ID1)"
   ]
  },
  {
   "cell_type": "markdown",
   "metadata": {},
   "source": [
    "Investigating on the unit codes which does not belong to the specified pattern (3 uppercase letter followed by 4 digits)."
   ]
  },
  {
   "cell_type": "code",
   "execution_count": 7,
   "metadata": {},
   "outputs": [
    {
     "data": {
      "text/plain": [
       "['DPSY7131',\n",
       " 'DPSY6261',\n",
       " 'DPSY6105',\n",
       " 'DPSY6162',\n",
       " 'DPSY5299',\n",
       " 'DPSY6199',\n",
       " 'DPSY5161']"
      ]
     },
     "execution_count": 7,
     "metadata": {},
     "output_type": "execute_result"
    }
   ],
   "source": [
    "# list comprehension to find out the elements in one list(ID) that is absent in the other list(ID1).\n",
    "[x for x in ID if x not in ID1]"
   ]
  },
  {
   "cell_type": "markdown",
   "metadata": {},
   "source": [
    "As the above unit codes do not satisfy the specifics given in the assignment, `we discard these unit information`.\n",
    "\n",
    "### 4.2 Extracting the unit titles\n",
    "\n",
    "Similarly, we find all the unit titles using the code below:"
   ]
  },
  {
   "cell_type": "code",
   "execution_count": 8,
   "metadata": {},
   "outputs": [
    {
     "data": {
      "text/plain": [
       "393"
      ]
     },
     "execution_count": 8,
     "metadata": {},
     "output_type": "execute_result"
    }
   ],
   "source": [
    "# re to find all the unit title.\n",
    "title = re.findall(r'(?:>[A-Z]{3}[0-9]{4}</span> - (.*?)<span)',data)\n",
    "\n",
    "# determine the length of the list of valid titles.\n",
    "len(title)"
   ]
  },
  {
   "cell_type": "markdown",
   "metadata": {},
   "source": [
    "### 4.3 Extracting unit synopsis\n",
    "Now, extracting other specific unit information like synopsis.\n",
    "Extract the whole chunk of synopsis data post identifying the tag pattern.\n",
    "\n",
    "However, post examining the complete result, I found few unwanted tags between the text which needs to be eleminated. I have substituted void with unnecessary string pattern, I used \n",
    "`re.sub('<.*?>','', synopsis)` to clean the existing data.\n",
    "\n",
    "The code is as below:"
   ]
  },
  {
   "cell_type": "code",
   "execution_count": 9,
   "metadata": {},
   "outputs": [
    {
     "data": {
      "text/plain": [
       "\"This unit examines major issues in ethical theory. One aspect of this is an inquiry into central questions in the philosophical sub-discipline known as 'metaethics'. Some of these questions include: are there objective moral facts? Is moral judgment grounded primarily in reasoning, or emotion, or something else? And what motivates people to do what they believe is right? The unit also involves an exploration of the strengths and weaknesses of consequentialist ethical theories, like Utilitarianism, which assess the morality of people's actions solely in terms of the consequences of those actions. The unit examines debates between these theories and rival theories that incorporate other elements, such as duties, rights, contractualist principles, and people's character and virtues.\""
      ]
     },
     "execution_count": 9,
     "metadata": {},
     "output_type": "execute_result"
    }
   ],
   "source": [
    "# re to search for the first synopsis chunk in the data.\n",
    "synopsis = re.search(r'(?:Synopsis</h2>\\n<div>\\n<p>(.*)</p>)',data)[1]\n",
    "\n",
    "# Eleminate the unwanted strings in the captured text.\n",
    "synopsis = re.sub('<.*?>','', synopsis)\n",
    "\n",
    "# print the final synopsis.\n",
    "synopsis"
   ]
  },
  {
   "cell_type": "markdown",
   "metadata": {},
   "source": [
    "### 4.4 Extracting pre-requisite,co-requisite and prohibisions\n",
    "\n",
    "As per the specification of the assignment, We will need to store pre-requisite and co-requisite in a single variable called pre-requisite.\n",
    "\n",
    "I noticed that, i could extract all pre-requisite,co-requisite and prohibisions information chunk using a single regular expression. I followed the following oder to extract the final information:\n",
    "1. The chunk of data containing pre-requisite,co-requisite and prohibisions information is extracted from the unit data.\n",
    "2. I have extracted the pre-requisite/co-requisite information from the above extracted text.\n",
    "3. Extract all the occurrence of unit code from the above text to a list named `pre_req_each`.\n",
    "4. I have extracted the prohibisions information from the extracted text in step-1.\n",
    "5. Extract all the occurrence of unit code from the above text to a list named `prohibision_each`."
   ]
  },
  {
   "cell_type": "code",
   "execution_count": 10,
   "metadata": {},
   "outputs": [
    {
     "data": {
      "text/plain": [
       "'<span class=\"unitlink\"><a href=\"/pubs/2019handbooks/units/ATS2122.html\">ATS2122</a></span> or ATS2808</p>\\n<p>This unit is only available to students enrolled in a Bachelor of Music single or double degree - Music performance specialisation.</p>\\n<p class=\"hbk-preamble-heading\">Prohibitions</p>\\n<p>ATS2809</p>\\n'"
      ]
     },
     "execution_count": 10,
     "metadata": {},
     "output_type": "execute_result"
    }
   ],
   "source": [
    "# re to find all the pre-requisite,co-requisite and prohibisions in the data.\n",
    "pre_req = re.findall(r'(?s)(?:Prerequisites</p>\\n<p>(.*?)</div>\\n</div>)|$',data)\n",
    "\n",
    "# print the fourth element of the list.\n",
    "pre_req[3]"
   ]
  },
  {
   "cell_type": "code",
   "execution_count": 15,
   "metadata": {},
   "outputs": [
    {
     "name": "stdout",
     "output_type": "stream",
     "text": [
      "pre-req: ['ATS2808', 'ATS2122']\n",
      "prohibision: ['ATS2809']\n"
     ]
    }
   ],
   "source": [
    "# extracting all the unit codes under pre-requisite and co-requisite chunk in above data element.\n",
    "pre_req_all = str(re.search(r'(?s)(?:(.*?)Prohibitions)|$',pre_req[3])[1])\n",
    "pre_req_each = list(set(re.findall(r'([A-Z]+[0-9]+)',pre_req_all)))\n",
    "\n",
    "# extracting all the unit codes under prohibision chunk in above data element.\n",
    "prohibision = str(re.search(r'(?s)(?:Prohibitions(.*))|$',pre_req[3])[1])\n",
    "prohibision_each = list(set(re.findall(r'([A-Z]+[0-9]+)',prohibision)))\n",
    "\n",
    "# printing the lists of pre-requisite/co-requisite and prohibisions in the data element.\n",
    "print(\"pre-req:\",pre_req_each)\n",
    "print(\"prohibision:\",prohibision_each)\n"
   ]
  },
  {
   "cell_type": "markdown",
   "metadata": {},
   "source": [
    "### 4.5 Extracting Unit Requirements\n",
    "\n",
    "Post examining the text data, I noticed the unit requirements are under the tag `Assessment`. \n",
    "1. I have extracted all the text between the tags as shown below.\n",
    "2. Extracted all individual requirement form the Text data obtained in step-1.\n",
    "3. store the final bullet points as elements in a list(`req_each`)."
   ]
  },
  {
   "cell_type": "code",
   "execution_count": 10,
   "metadata": {},
   "outputs": [
    {
     "data": {
      "text/plain": [
       "'\\n<p>Within semester assessment: 75%</p>\\n<p>Exam: 25%</p>\\n'"
      ]
     },
     "execution_count": 10,
     "metadata": {},
     "output_type": "execute_result"
    }
   ],
   "source": [
    "# re to find all the unit requirements in the data.\n",
    "req = re.findall(r'(?s)(?:Assessment</h2>.*?<div>(.*?)</div>)',data)\n",
    "\n",
    "#printing the 22nd element.\n",
    "req[21]"
   ]
  },
  {
   "cell_type": "code",
   "execution_count": 11,
   "metadata": {},
   "outputs": [
    {
     "data": {
      "text/plain": [
       "['Within semester assessment: 75%', 'Exam: 25%']"
      ]
     },
     "execution_count": 11,
     "metadata": {},
     "output_type": "execute_result"
    }
   ],
   "source": [
    "# extracting all the unit requirements under in above data element.\n",
    "req_each = re.findall(r'(?s)(?:<p>(.*?)</p>)',req[21])\n",
    "\n",
    "# printing the list of requirements.\n",
    "req_each"
   ]
  },
  {
   "cell_type": "markdown",
   "metadata": {},
   "source": [
    "### 4.6 Extracting Unit Outcomes\n",
    "\n",
    "Extract all the data between `Outcomes` tag to obtain the outcome points.\n",
    "1. I have extracted all the text between the tags as shown below.\n",
    "2. Extracted only the individual outcome between `<li>` and `</li>` form the Text data obtained in step-1.\n",
    "3. store the final outcome as elements in a list(`outcome_each`)."
   ]
  },
  {
   "cell_type": "code",
   "execution_count": 12,
   "metadata": {},
   "outputs": [
    {
     "data": {
      "text/plain": [
       "'\\n<p>Students successfully completing the unit will be able to:</p>\\n<ol princestart=\"0\" start=\"1\" type=\"1\">\\n<li>explain key concepts, arguments, and principles in ethical theory;</li>\\n<li>summarise and interpret contemporary and historical texts in the field of ethics;</li>\\n<li>analyse and evaluate detailed philosophical arguments in contemporary and historical texts in the field of ethics;</li>\\n<li>put into practice bibliographical skills that are relevant to the discipline of philosophy, including referencing and citation techniques;</li>\\n<li>compose original research essays, using the argumentative conventions of philosophical essay-writing, and demonstrating independent critical judgment.</li>\\n</ol>\\n'"
      ]
     },
     "execution_count": 12,
     "metadata": {},
     "output_type": "execute_result"
    }
   ],
   "source": [
    "# re to find all the unit outcomes in the data.\n",
    "outcomes = re.findall(r'(?s)(?:Outcomes</h2>\\n<div>(.*?)</div>)',data)\n",
    "\n",
    "#printing the first element.\n",
    "outcomes[0]"
   ]
  },
  {
   "cell_type": "code",
   "execution_count": 13,
   "metadata": {},
   "outputs": [
    {
     "data": {
      "text/plain": [
       "['explain key concepts, arguments, and principles in ethical theory;',\n",
       " 'summarise and interpret contemporary and historical texts in the field of ethics;',\n",
       " 'analyse and evaluate detailed philosophical arguments in contemporary and historical texts in the field of ethics;',\n",
       " 'put into practice bibliographical skills that are relevant to the discipline of philosophy, including referencing and citation techniques;',\n",
       " 'compose original research essays, using the argumentative conventions of philosophical essay-writing, and demonstrating independent critical judgment.']"
      ]
     },
     "execution_count": 13,
     "metadata": {},
     "output_type": "execute_result"
    }
   ],
   "source": [
    "# extracting all the unit outcomes in above data element.\n",
    "outcome_each = re.findall(r'(?s)(?:<li>(.*?(?!<p>))</li>)',outcomes[0])\n",
    "\n",
    "# printing the list of outcomes.\n",
    "outcome_each"
   ]
  },
  {
   "cell_type": "markdown",
   "metadata": {},
   "source": [
    "### 4.7 Extracting Unit's Chief Examiners\n",
    "\n",
    "I have identified the chief examiners in the text data under the tag `Chief examiner`.\n",
    "1. I have extracted all the text between the tags as shown below.\n",
    "2. Extracted only the individual examiner names form the Text data obtained in step-1.\n",
    "3. store the final outcome as elements in a list(`ce_each`)."
   ]
  },
  {
   "cell_type": "code",
   "execution_count": 14,
   "metadata": {},
   "outputs": [
    {
     "data": {
      "text/plain": [
       "'\\n<p>\\n<a href=\"http://staffsearch.monash.edu/?name=David Ripley\">Dr David Ripley</a>\\n<br/>'"
      ]
     },
     "execution_count": 14,
     "metadata": {},
     "output_type": "execute_result"
    }
   ],
   "source": [
    "# re to find all the unit's chief examiners in the data.\n",
    "chief_examiner = re.findall(r'(?s)(?:Chief examiner\\(s\\)</p>(.*?)\\n</p>)',data)\n",
    "\n",
    "# print the first element. \n",
    "chief_examiner[0]"
   ]
  },
  {
   "cell_type": "code",
   "execution_count": 15,
   "metadata": {},
   "outputs": [
    {
     "data": {
      "text/plain": [
       "['Dr David Ripley']"
      ]
     },
     "execution_count": 15,
     "metadata": {},
     "output_type": "execute_result"
    }
   ],
   "source": [
    "# extracting all the unit's chief examiners in above data element.\n",
    "ce_each = re.findall(r'(?:name=[a-zA-Z ]*\">(.*?)</a>)',chief_examiner[0])\n",
    "\n",
    "# printing the list of chief examiners.\n",
    "ce_each"
   ]
  },
  {
   "cell_type": "markdown",
   "metadata": {},
   "source": [
    "## 5. Extracting each unit observation.\n",
    "\n",
    "This is the first step to organise and distinguish between different unit information in the text document. I have extracted each unit information using the regular expression which has yielded me the information of all 400 units.\n",
    "\n",
    "As we need to consider unit information for only the ones with the unit code of 7 characters, we will filter this out in out actual program in the following step."
   ]
  },
  {
   "cell_type": "code",
   "execution_count": 16,
   "metadata": {},
   "outputs": [
    {
     "data": {
      "text/plain": [
       "400"
      ]
     },
     "execution_count": 16,
     "metadata": {},
     "output_type": "execute_result"
    }
   ],
   "source": [
    "# extracing each observation of a unit in chunks to filter out for the specification with respect to unit.\n",
    "units = re.findall(r'(?s)(?<=<h1 class)(.*?)(?=<!-- /.content_container--> </div>)',data)\n",
    "\n",
    "len(units)"
   ]
  },
  {
   "cell_type": "markdown",
   "metadata": {},
   "source": [
    "## 6. Complete program obtain the list of dictionaries with unit information.\n",
    "\n",
    "As we have understood the methods and ways to extract unit informations in the given text.\n",
    "1. Extract all the listed attributes(unitID, Title, Synopsis, Prerequistics, Prohibisions, Requirements,Outcome, ChiefExaminer) of a unit and store it as a key-value pair in a dictionary. We also create a list of values for a key if required. Sample output is as below:\n",
    "\n",
    "`{\n",
    "\"@id\": \"ATS2839\", \n",
    "\"title\": \"Ethics\", \n",
    "\"synopsis\": \"This unit examines major issues in ethical theory. One aspect of this is an inquiry into central questions in the philosophical sub-discipline known as 'metaethics'. Some of these questions include: are there objective moral facts? Is moral judgment grounded primarily in reasoning, or emotion, or something else? And what motivates people to do what they believe is right? The unit also involves an exploration of the strengths and weaknesses of consequentialist ethical theories, like Utilitarianism, which assess the morality of people's actions solely in terms of the consequences of those actions. The unit examines debates between these theories and rival theories that incorporate other elements, such as duties, rights, contractualist principles, and people's character and virtues.\", \n",
    "\"pre_requistics\": \"NA\", \n",
    "\"prohibisions\": {\"prohibision\": [\"AZA2939\", \"AZA3939\", \"ATS1839\"]}, \n",
    "\"requirements\": {\"requirement\": [\"Within semester assessment: 60% + Exam: 40%\"]}, \n",
    "\"outcomes\": {\"outcome\": [\"explain key concepts, arguments, and principles in ethical theory;\", \"summarise and interpret contemporary and historical texts in the field of ethics;\", \"analyse and evaluate detailed philosophical arguments in contemporary and historical texts in the field of ethics;\", \"put into practice bibliographical skills that are relevant to the discipline of philosophy, including referencing and citation techniques;\", \"compose original research essays, using the argumentative conventions of philosophical essay-writing, and demonstrating independent critical judgment.\"]}, \n",
    "\"chief_examiners\": {\"chief_examiner\": [\"Dr David Ripley\"]\n",
    "}`\n",
    "\n",
    "\n",
    "2. Append these dictionaries to a list of units which should look like the following structure:\n",
    "\n",
    "`unit[{unit1},{unit2}.......{unit393}]`\n",
    "\n",
    "Below written program successfully implements all the above mentioned extraction methods to arrive at the format that is appropriate for the task. "
   ]
  },
  {
   "cell_type": "code",
   "execution_count": 17,
   "metadata": {},
   "outputs": [],
   "source": [
    "# initiate a list of unit.\n",
    "unit = []\n",
    "\n",
    "# iterate through each chuck of unit information that is extracted.\n",
    "for i in units:\n",
    "    # initiate a dictionary to store specified information about a unit. \n",
    "    unit_dict ={}\n",
    "    \n",
    "    # check for the units with the given unit pattern of 7 characters.\n",
    "    if re.search(r'(?:<span class=\"unitcode\">([A-Z]{3}[0-9]{4})</span>)|$',i)[1] != None:\n",
    "        \n",
    "        # with '@id' as a key, store the extracted unit code as a value.\n",
    "        unit_dict[\"@id\"] = re.search(r'(?:<span class=\"unitcode\">([A-Z]{3}[0-9]{4})</span>)',i)[1]\n",
    "        \n",
    "        # with 'title' as a key, store the extracted unit title as a value.\n",
    "        unit_dict[\"title\"] = re.search(r'(?:[A-Z]+[0-9]+</span> - (.*?)<span)',i)[1]\n",
    "        \n",
    "        # re to search for the synopsis chunk in the data.\n",
    "        synopsis = str(re.search(r'(?:Synopsis</h2>\\n<div>\\n<p>(.*)</p>)|$',i)[1])\n",
    "        \n",
    "        # re to search for the pre-requistics chunk in the data.\n",
    "        pre_req = str(re.search(r'(?s)(?:Prerequisites</p>\\n<p>(.*?)</div>\\n</div>)|$',i)[1])\n",
    "        \n",
    "        # re to search for the requirement chunk in the data.\n",
    "        req = str(re.search(r'(?s)(?:Assessment</h2>.*?<div>(.*?)</div>)|$',i)[1])\n",
    "        \n",
    "        # re to search for the outcomes chunk in the data.\n",
    "        outcomes = str(re.search(r'(?s)(?:Outcomes</h2>\\n<div>(.*?)</div>)|$',i)[1])\n",
    "        \n",
    "        # re to search for the chief examiner chunk in the data.\n",
    "        chief_examiner = str(re.search(r'(?s)(?:Chief examiner\\(s\\)</p>(.*?)\\n</p>)|$',i)[1])\n",
    "        \n",
    "        # check for the search result of synopsis.\n",
    "        if synopsis != \"\":\n",
    "            # eleminate the unwanted strings in the captured text.\n",
    "            synopsis = re.sub('<.*?>','', synopsis)\n",
    "            # with 'synopsis' as a key, store the extracted unit synopsis as a value.\n",
    "            unit_dict[\"synopsis\"] = synopsis\n",
    "        else:\n",
    "            # with 'synopsis' as a key, store 'NA' as a value.\n",
    "            unit_dict[\"synopsis\"] = \"NA\"\n",
    "        \n",
    "        # check for the search result of pre-requisite,co-requisite and prohibisions.\n",
    "        if pre_req != \"\":\n",
    "            \n",
    "            # extracting pre-requisite,co-requisite text chunk.\n",
    "            pre_req_all = str(re.search(r'(?s)(?:(.*?)Prohibitions)|$',pre_req)[1])\n",
    "            pre_req_each = list(set(re.findall(r'([A-Z]+[0-9]+)',pre_req_all))) # extracting all the unit codes\n",
    "\n",
    "            # extracting prohibision text chunk.\n",
    "            prohibision = str(re.search(r'(?s)(?:Prohibitions(.*))|$',pre_req)[1])\n",
    "            prohibision_each = list(set(re.findall(r'([A-Z]+[0-9]+)',prohibision))) # extracting all the unit codes\n",
    "            \n",
    "            # check for the search result of pre-requisite,co-requisite.\n",
    "            if pre_req_each:\n",
    "                # with 'pre_requistics' as a key, store the value as a dictionary.\n",
    "                unit_dict[\"pre_requistics\"] = {\"pre_requistic\":pre_req_each}\n",
    "            else:\n",
    "                unit_dict[\"pre_requistics\"] = \"NA\"\n",
    "            \n",
    "            # check for the search result of prohibisions.\n",
    "            if prohibision_each:\n",
    "                # with 'prohibisions' as a key, store the value as a dictionary.\n",
    "                unit_dict[\"prohibisions\"] = {\"prohibision\":prohibision_each}\n",
    "            else:\n",
    "                unit_dict[\"prohibisions\"] = \"NA\"\n",
    "        else:\n",
    "            unit_dict[\"pre_requistics\"] = \"NA\"\n",
    "            unit_dict[\"prohibisions\"] = \"NA\"\n",
    "\n",
    "\n",
    "        # check for the search result of requirements.\n",
    "        if req != \"\":\n",
    "            # extracting requirements text chunk.\n",
    "            req_each = re.findall(r'(?s)(?:<p>(.*?)</p>)',req)\n",
    "            # check for the search result of requirement list.\n",
    "            if req_each:\n",
    "                # with 'requirements' as a key, store the value as a dictionary.\n",
    "                unit_dict[\"requirements\"] = {\"requirement\":list(req_each)}\n",
    "            else:\n",
    "                unit_dict[\"requirements\"] = \"NA\"\n",
    "        else:\n",
    "            unit_dict[\"requirements\"] = \"NA\"\n",
    "\n",
    "        # check for the search result of outcome.\n",
    "        if outcomes != \"\":\n",
    "            # extracting outcome text chunk.\n",
    "            outcome_each = re.findall(r'(?s)(?:<li>(.*?(?!<p>))</li>)',outcomes)\n",
    "            # eleminate the unwanted strings in the captured text.\n",
    "            outcome_each = [(re.sub('<.*?>','',i)) for i in outcome_each]\n",
    "            # check for the search result of outcome.\n",
    "            if outcome_each:\n",
    "                # with 'outcomes' as a key, store the value as a dictionary.\n",
    "                unit_dict[\"outcomes\"] = {\"outcome\":outcome_each}\n",
    "            else:\n",
    "                unit_dict[\"outcomes\"] = \"NA\"\n",
    "        else:\n",
    "            unit_dict[\"outcomes\"] = \"NA\"\n",
    "\n",
    "        # check for the search result of chief examiner.\n",
    "        if chief_examiner !=\"\":\n",
    "            # extracting the chief examiners list.\n",
    "            ce_each = re.findall(r'(?:name=[a-zA-Z ]*\">(.*?)</a>)',chief_examiner)\n",
    "            # check for the search result of chief examiner list.\n",
    "            if ce_each:\n",
    "                # with 'chief examiner' as a key, store the value as a dictionary.\n",
    "                unit_dict[\"chief_examiners\"] = {\"chief_examiner\":ce_each}\n",
    "            else:\n",
    "                unit_dict[\"chief_examiners\"] = \"TBA\"\n",
    "        else:\n",
    "            unit_dict[\"chief_examiners\"] = \"TBA\"\n",
    "        \n",
    "        # append the dictionary of unit information to a list of units.\n",
    "        unit.append(unit_dict)"
   ]
  },
  {
   "cell_type": "markdown",
   "metadata": {},
   "source": [
    "Appending the list of units to a dictionary to arrive at the right format specified for the task.\n",
    "\n",
    "Code is as below:"
   ]
  },
  {
   "cell_type": "code",
   "execution_count": 18,
   "metadata": {},
   "outputs": [],
   "source": [
    "output = {\"units\":{\"unit\":unit}}"
   ]
  },
  {
   "cell_type": "markdown",
   "metadata": {},
   "source": [
    "## 7. Transforming the output dictionary to JSON format\n",
    "\n",
    "Using the `json library` we can dump the output dictionary to obtain JSON format file.\n",
    "1. Create the output file (`29498724.json`) with write permission.\n",
    "2. Use the `dump()` function from json library to transform the output dictionary to json object."
   ]
  },
  {
   "cell_type": "code",
   "execution_count": 19,
   "metadata": {},
   "outputs": [],
   "source": [
    "# create a JSON file and dump the dictionary into the file in JSON format using the JSON package.\n",
    "with open('29498724.json', 'w') as out:\n",
    "    json.dump(output, out)"
   ]
  },
  {
   "cell_type": "markdown",
   "metadata": {},
   "source": [
    "## 8. Transforming the output dictionary to XML format\n",
    "\n",
    "We iterate through the dictionary and append appropriate tags to obtain the xml format.\n",
    "1. iterate through the first layer of the vales in the output dictionary. Append the `<key>` tag for key into xml output variable.\n",
    "2. iterate through the list of units denoted by `d`\n",
    "3. check the data type of value in the key-value pair of the dictionary in d.\n",
    "4. If the value is not a dictionary, append the tag `<key>` followed by the value and `</key>` to the xml output variable.\n",
    "5. if the value is a dictionary, iterate through the dictionary and follow step-4.\n",
    "6. now append `</unit>` post every unit information as specified in the task.\n",
    "7. terminate the list with the closing tag of the outermost dictionary's key.\n",
    "8. use `\"\".join()` function to concatinate all the elements in the xml output variable.\n",
    "9. remove all the `\\n` added by the join statement above.\n",
    "10. Create the output file (29498724.xml) with write permission and write the xml output variable to the file."
   ]
  },
  {
   "cell_type": "code",
   "execution_count": 20,
   "metadata": {},
   "outputs": [],
   "source": [
    "# initiate a xml output list to append tags and values\n",
    "xml_output = []\n",
    "# iterate through the output dictionary with one pair \"units\".\n",
    "for a,b in output.items():\n",
    "    # append the key tag\n",
    "    xml_output.append('<'+a+'>')\n",
    "    # iterate through the dictionary with one variable \"unit\".\n",
    "    for c,d in b.items():\n",
    "        # iterate through the list of units.\n",
    "        for e in d:\n",
    "            # iterate thorugh the unit information of each unit.\n",
    "            for k,l  in e.items():\n",
    "                # check the type of value.\n",
    "                check=type(l)\n",
    "                \n",
    "                # check for dictionary\n",
    "                if check!=dict:\n",
    "                    # append unit id as suggested in the task.\n",
    "                    if '@' in k:\n",
    "                        xml_output.append('<'+'unit id='+'\"'+l+'\"'+'>')\n",
    "                    # append the rest of the tag values to the list.\n",
    "                    else:\n",
    "                        xml_output.append('<'+k+'> '+l+' </'+k+'>') \n",
    "                else:\n",
    "                    # iterate through the dictionary if the value is a dict.\n",
    "                    for m,n in l.items():\n",
    "                        # append the key tag.\n",
    "                        xml_output.append('<'+k+'>')\n",
    "                        # append the list of values with key tags\n",
    "                        for o in n:                            \n",
    "                            xml_output.append('<'+m+'>'+o+'</'+m+'>')\n",
    "                        xml_output.append('</'+k+'>') #closing tag\n",
    "            xml_output.append('</'+'unit'+'>') # closing unit tag after each unit as suggested in the task.\n",
    "    xml_output.append('</'+a+'>') # closing tag for the outermost dictionary key."
   ]
  },
  {
   "cell_type": "code",
   "execution_count": 21,
   "metadata": {},
   "outputs": [],
   "source": [
    "xml_output=''.join(xml_output) # converts list into string\n",
    "xml_output=xml_output.replace('\\n','') # when converted it adds '\\n' and hence removing it by using replace"
   ]
  },
  {
   "cell_type": "code",
   "execution_count": 22,
   "metadata": {},
   "outputs": [
    {
     "data": {
      "text/plain": [
       "677903"
      ]
     },
     "execution_count": 22,
     "metadata": {},
     "output_type": "execute_result"
    }
   ],
   "source": [
    "# create a XML file and write the output into the file in XML format.\n",
    "xml_file = open('29498724.xml', 'w')\n",
    "xml_file.write(str(xml_output))"
   ]
  },
  {
   "cell_type": "markdown",
   "metadata": {},
   "source": [
    "## 9. Summary\n",
    "\n",
    "I have identified all the below mentioned 7 parameters in each of the valid units mentioned in the text data.\n",
    "The final result will satisfy all the below mentioned conditions:\n",
    "1. Unit code: is a 7-character string (three uppercase letter followed by 4 digits).\n",
    "2. Pre-requisites: only the unit codes of the units that are pre-requisite + co-requisite for the current unit (‘NA’ if the value is Null).\n",
    "3. Prohibitions: only the unit codes of the units that are prohibited to be taken with the current unit (‘NA’ if the value is Null).\n",
    "4. Synopsis: a string containing the synopsis of the unit (‘NA’ if the value is Null)\n",
    "5. Requirements: the list of requirements of the current unit (‘NA’ if the value is Null).\n",
    "6. Outputs: the list of outputs of the current unit (‘NA’ if the value is Null).\n",
    "7. Chief-examiners: the list of the chief-examiners of the current unit (‘TBA’ if Null).\n",
    "\n",
    "I have performed the following steps to complete this task:\n",
    "1. Identify the regular expressions to extract the required texts from the lager data.\n",
    "2. Using the larger text data for each unit, i have extracted the values for the unit parameters as specified and assigned \"NA\" or \"TBA\" as specified.\n",
    "3. Ordered the extracted data into the required dictionary and list combination.\n",
    "4. Transform the output into JSON and XML format."
   ]
  },
  {
   "cell_type": "markdown",
   "metadata": {},
   "source": [
    "## 10. References\n",
    "\n",
    "* https://stackoverflow.com/questions/24867342/regex-get-string-between-two-strings-that-has-line-breaks\n",
    "\n",
    "* https://stackoverflow.com/questions/38579725/return-string-with-first-match-regex/38579881\n",
    "    \n",
    "* https://stackoverflow.com/questions/8303488/regex-to-match-any-character-including-new-lines\n",
    "    \n",
    "* https://stackoverflow.com/questions/8703017/remove-sub-string-by-using-python"
   ]
  },
  {
   "cell_type": "code",
   "execution_count": 31,
   "metadata": {},
   "outputs": [],
   "source": [
    "data_txt = open(\"29498724_vocab.txt\",'rt') #opening an instance of the document.\n",
    "my_vocab = data_txt.read() #reading the document to a variable.\n",
    "data_txt.close()\n",
    "\n",
    "data_txt = open(\"29498724_vocab_test.txt\",'rt') #opening an instance of the document.\n",
    "test = data_txt.read() #reading the document to a variable.\n",
    "data_txt.close()"
   ]
  },
  {
   "cell_type": "code",
   "execution_count": 26,
   "metadata": {},
   "outputs": [],
   "source": [
    "my =re.findall(r'(?:\\n(.*?):)',my_vocab)"
   ]
  },
  {
   "cell_type": "code",
   "execution_count": 29,
   "metadata": {},
   "outputs": [],
   "source": [
    "my.append(\"Analyse\")"
   ]
  },
  {
   "cell_type": "code",
   "execution_count": 30,
   "metadata": {},
   "outputs": [
    {
     "data": {
      "text/plain": [
       "233"
      ]
     },
     "execution_count": 30,
     "metadata": {},
     "output_type": "execute_result"
    }
   ],
   "source": [
    "len(my)"
   ]
  },
  {
   "cell_type": "code",
   "execution_count": 38,
   "metadata": {},
   "outputs": [
    {
     "data": {
      "text/plain": [
       "'Apply:0\\nAustralia:1\\nAustralian:2\\nCritically:3\\nDemonstrate:4\\nDescribe:5\\nExplain:6\\nIdentify:7\\nUnderstand:8\\nabil:9\\nacadem:10\\nacquisit:11\\nactiv:12\\naddit:13\\nadvanc:14\\naim:15\\nanalys:16\\nanalyse_the:17\\nanalysi:18\\nand_apply:19\\nand_its:20\\nand_other:21\\nand_safety:22\\nappli:23\\napplic:24\\napprais:25\\napproach:26\\narea:27\\narticul:28\\naspect:29\\nassess:30\\nassociated_with:31\\nawar:32\\nbase:33\\nbasic:34\\nbehaviour:35\\nbusi:36\\ncapac:37\\ncare:38\\ncase:39\\ncase_studies:40\\nchalleng:41\\ncharacterist:42\\nclinic:43\\ncommon:44\\ncommun:45\\ncomplex:46\\ncomprehensive_understanding:47\\nconcept:48\\nconceptu:49\\ncondit:50\\nconduct:51\\nconsider:52\\ncontemporari:53\\ncontext:54\\ncontrol:55\\ncore:56\\ncreat:57\\ncritic:58\\ncritically_analyse:59\\ncritically_evaluate:60\\ncritiqu:61\\ncultur:62\\ncurrent:63\\ndata:64\\ndealing_with:65\\ndebat:66\\ndecis:67\\ndemonstr:68\\ndescrib:69\\ndescribe_the:70\\ndesign:71\\ndetermin:72\\ndevelop:73\\ndigit:74\\ndisciplin:75\\ndiscuss:76\\ndivers:77\\neconom:78\\neffect:79\\nelement:80\\nemphasi:81\\nengin:82\\nenhanc:83\\nenviron:84\\nenvironment:85\\nethic:86\\nevalu:87\\nevaluate_the:88\\nexamin:89\\nexamine_the:90\\nexist:91\\nexperi:92\\nexperiment:93\\nexplain:94\\nexplain_the:95\\nexplor:96\\nfactor:97\\nfield:98\\nfinanci:99\\nfocu:100\\nfocus:101\\nform:102\\nformul:103\\nfoundat:104\\nframework:105\\nfundament:106\\ngain:107\\ngener:108\\ngroup:109\\nhealth:110\\nhistor:111\\nhistori:112\\nhuman:113\\nidea:114\\nidentifi:115\\nimpact:116\\nimplement:117\\nimplic:118\\nimport:119\\ninclud:120\\nindepend:121\\nindividu:122\\nindividual_summative:123\\nindustri:124\\ninform:125\\nintern:126\\ninterpret:127\\nintroduc:128\\nintroduct:129\\ninvolv:130\\nissu:131\\nkey:132\\nknowledg:133\\nlaboratori:134\\nlaw:135\\nlearn:136\\nlegal:137\\nlevel:138\\nlife:139\\nliteratur:140\\nmajor:141\\nmanag:142\\nmarket:143\\nmateri:144\\nmedia:145\\nmethod:146\\nmethodolog:147\\nmodel:148\\nmodern:149\\nnation:150\\nnatur:151\\noccupational_health:152\\nopportun:153\\noption:154\\noral:155\\norder:156\\norganis:157\\noutcom:158\\noverview:159\\npart:160\\npatient:161\\nperform:162\\nperson:163\\nperspect:164\\nphysic:165\\nplan:166\\npolici:167\\npolit:168\\npotenti:169\\npractic:170\\npresent:171\\npresentation_skills:172\\nprincipl:173\\nproblem:174\\nprocess:175\\nproduc:176\\nproduct:177\\nprofession:178\\nprogram:179\\nprogress:180\\nproject:181\\nprovid:182\\nqualiti:183\\nrang:184\\nrecognis:185\\nreflect:186\\nrelat:187\\nrelationship:188\\nrelationship_between:189\\nrelev:190\\nreport:191\\nrequir:192\\nresearch:193\\nresearch_project:194\\nresult:195\\nreview:196\\nrole:197\\nscienc:198\\nscientif:199\\nselect:200\\nset:201\\nsignific:202\\nskill:203\\nsocial:204\\nsocieti:205\\nsoftwar:206\\nsolv:207\\nspecif:208\\nstrategi:209\\nstrategies_for:210\\nstructur:211\\nstudent:212\\nstudents_are:213\\nstudents_will:214\\nstudents_with:215\\nstudi:216\\nsupport:217\\nsynthesis:218\\nsystem:219\\nteam:220\\ntechnic:221\\ntechniqu:222\\ntechnolog:223\\nthe_Australian:224\\nthe_ability:225\\nthe_development:226\\nthe_impact:227\\nthe_importance:228\\nthe_major:229\\nthe_role:230\\nthe_rules:231\\nthe_unit:232\\ntheir_own:233\\ntheoret:234\\ntheori:235\\nthis_unit:236\\ntime:237\\ntool:238\\ntopic:239\\ntopics_covered:240\\nunderstand:241\\nunderstand_the:242\\nundertak:243\\nunit:244\\nutilis:245\\nvarieti:246\\nvisual:247\\nwill_also:248\\nwill_provide:249\\nwith_the:250\\nwithin_the:251\\nwork:252\\nworking_with:253\\nworld:254\\nwrite:255\\nwritten:256\\n'"
      ]
     },
     "execution_count": 38,
     "metadata": {},
     "output_type": "execute_result"
    }
   ],
   "source": [
    "testt =re.findall(r'(?:\\n(.*?):)',test)\n",
    "test"
   ]
  },
  {
   "cell_type": "code",
   "execution_count": 39,
   "metadata": {},
   "outputs": [],
   "source": [
    "testt.append(\"Apply\")"
   ]
  },
  {
   "cell_type": "code",
   "execution_count": 40,
   "metadata": {},
   "outputs": [],
   "source": [
    "wrong = [x for x in testt if x not in my]\n"
   ]
  },
  {
   "cell_type": "code",
   "execution_count": 42,
   "metadata": {},
   "outputs": [
    {
     "data": {
      "text/plain": [
       "187"
      ]
     },
     "execution_count": 42,
     "metadata": {},
     "output_type": "execute_result"
    }
   ],
   "source": [
    "len(wrong)"
   ]
  },
  {
   "cell_type": "code",
   "execution_count": null,
   "metadata": {},
   "outputs": [],
   "source": []
  }
 ],
 "metadata": {
  "kernelspec": {
   "display_name": "Python 3",
   "language": "python",
   "name": "python3"
  },
  "language_info": {
   "codemirror_mode": {
    "name": "ipython",
    "version": 3
   },
   "file_extension": ".py",
   "mimetype": "text/x-python",
   "name": "python",
   "nbconvert_exporter": "python",
   "pygments_lexer": "ipython3",
   "version": "3.6.4"
  }
 },
 "nbformat": 4,
 "nbformat_minor": 2
}
